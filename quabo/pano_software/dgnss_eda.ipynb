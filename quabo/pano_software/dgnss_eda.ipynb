{
 "cells": [
  {
   "cell_type": "code",
   "execution_count": 1,
   "id": "d1fd2987-be6c-4949-adb1-fb1bc7b0f3da",
   "metadata": {},
   "outputs": [],
   "source": [
    "%load_ext autoreload\n",
    "%autoreload 2\n",
    "from dgnss_utils import panoseti_file_interfaces as pfi\n",
    "from dgnss_utils import pff\n",
    "import pandas as pd\n",
    "from decimal import *\n",
    "import os\n",
    "import seaborn as sns\n",
    "import matplotlib.pyplot as plt\n",
    "import numpy as np"
   ]
  },
  {
   "cell_type": "code",
   "execution_count": 2,
   "id": "4b707748-d9a0-485f-a3b4-6611c1bcbb53",
   "metadata": {},
   "outputs": [],
   "source": [
    "data_dir = '/Users/nico/Downloads/panoseti_test_data/obs_data/data'\n",
    "run_dir = 'obs_Lick.start_2023-08-29T04:49:58Z.runtype_sci-obs.pffd'"
   ]
  },
  {
   "cell_type": "code",
   "execution_count": 3,
   "id": "e1501a20-63d8-4c17-936f-373844114f32",
   "metadata": {},
   "outputs": [
    {
     "data": {
      "text/plain": [
       "{254: {'img': [],\n",
       "  'ph': [{'fname': 'start_2023-08-29T04_50_46Z.dp_ph256.bpp_2.module_254.seqno_0.pff',\n",
       "    'seqno': 0,\n",
       "    'nframes': 12659,\n",
       "    'first_unix_t': Decimal('1693284653.770646846'),\n",
       "    'last_unix_t': Decimal('1693295935.356830584')}]},\n",
       " 1: {'img': [{'fname': 'start_2023-08-29T04_50_49Z.dp_img16.bpp_2.module_1.seqno_0.pff',\n",
       "    'seqno': 0,\n",
       "    'nframes': 1574804,\n",
       "    'first_unix_t': Decimal('1693284655.214407488'),\n",
       "    'last_unix_t': Decimal('1693284812.694707488')},\n",
       "   {'fname': 'start_2023-08-29T04_53_33Z.dp_img16.bpp_2.module_1.seqno_1.pff',\n",
       "    'seqno': 1,\n",
       "    'nframes': 1574804,\n",
       "    'first_unix_t': Decimal('1693284812.694807488'),\n",
       "    'last_unix_t': Decimal('1693284970.175107488')}],\n",
       "  'ph': [{'fname': 'start_2023-08-29T04_50_49Z.dp_ph256.bpp_2.module_1.seqno_0.pff',\n",
       "    'seqno': 0,\n",
       "    'nframes': 10519,\n",
       "    'first_unix_t': Decimal('1693284655.602063831'),\n",
       "    'last_unix_t': Decimal('1693295937.169311272')}]},\n",
       " 3: {'img': [],\n",
       "  'ph': [{'fname': 'start_2023-08-29T04_50_49Z.dp_ph256.bpp_2.module_3.seqno_0.pff',\n",
       "    'seqno': 0,\n",
       "    'nframes': 12822,\n",
       "    'first_unix_t': Decimal('1693284655.249142145'),\n",
       "    'last_unix_t': Decimal('1693295941.373811029')}]}}"
      ]
     },
     "execution_count": 3,
     "metadata": {},
     "output_type": "execute_result"
    }
   ],
   "source": [
    "ori = pfi.ObservingRunInterface(data_dir, run_dir)\n",
    "ori.obs_pff_files"
   ]
  },
  {
   "cell_type": "code",
   "execution_count": 4,
   "id": "72cda271-542c-4101-a0ad-9c3d167a76af",
   "metadata": {},
   "outputs": [],
   "source": [
    "fname = ori.obs_pff_files[1][\"ph\"][0][\"fname\"]\n",
    "fpath = f'{data_dir}/{run_dir}/{fname}'"
   ]
  },
  {
   "cell_type": "code",
   "execution_count": null,
   "id": "94bde0c3-556b-4d55-8205-6dcb873aa315",
   "metadata": {},
   "outputs": [],
   "source": [
    "columns = [\n",
    "    'timestamp',\n",
    "    'date',\n",
    "    'quabo_num',\n",
    "    'pkt_num',\n",
    "    'pkt_tai',\n",
    "    'pkt_nsec',\n",
    "    'tv_sec',\n",
    "    'tv_usec',\n",
    "    # 'img_data'\n",
    "]\n",
    "ph_df = pd.DataFrame(columns=columns)\n",
    "\n",
    "with open(fpath, 'rb') as fp:\n",
    "    frame_iterator = ori.pulse_height_frame_iterator(fp, 1)\n",
    "    for j, img in frame_iterator:\n",
    "        j['timestamp'] = pff.wr_to_unix_decimal(j['pkt_tai'], j['pkt_nsec'], j['tv_sec'])\n",
    "        # j['img_data'] = img\n",
    "        ph_df.loc[len(ph_df)] = j\n",
    "ph_df['date'] = pd.to_datetime(ph_df['timestamp'].astype(np.float64), unit = 's')\n",
    "ph_df = ph_df.sort_values(by='timestamp')\n",
    "ph_df"
   ]
  },
  {
   "cell_type": "code",
   "execution_count": null,
   "id": "caca8c89-af2a-41f1-9d38-2dbc8f46490f",
   "metadata": {},
   "outputs": [],
   "source": [
    "ph_df['time_differential (ns)'] = ph_df['timestamp'].diff() * 10**9#.dropna()"
   ]
  },
  {
   "cell_type": "code",
   "execution_count": null,
   "id": "7171c544-b2a3-4649-bc57-ba5b5e4a4dda",
   "metadata": {},
   "outputs": [],
   "source": [
    "plt.figure(figsize=(12,6))\n",
    "plt.xlabel('Time difference (ns)')\n",
    "plt.title(f'GNSS timing differential\\n{fname}')\n",
    "plt.axvline(x=ph_df['time_differential (ns)'].mean().astype(np.float64), label='mean', c='r')\n",
    "plt.axvline(x=ph_df['time_differential (ns)'].median().astype(np.float64), label='median', c='b')\n",
    "\n",
    "plt.legend()\n",
    "sns.histplot(ph_df, x='time_differential (ns)', stat='density');"
   ]
  },
  {
   "cell_type": "code",
   "execution_count": null,
   "id": "3b0bd503-9418-4978-bcd2-f7271742ba07",
   "metadata": {},
   "outputs": [],
   "source": [
    "plt.figure(figsize=(12, 6))\n",
    "sns.scatterplot(\n",
    "    ph_df,\n",
    "    x='date',\n",
    "    y='time_differential (ns)',\n",
    "    hue='quabo_num',\n",
    "    size=1.0\n",
    ")"
   ]
  },
  {
   "cell_type": "code",
   "execution_count": null,
   "id": "98677760-d342-4250-b1e2-0c69e06dc5d6",
   "metadata": {},
   "outputs": [],
   "source": [
    "plt.figure(figsize=(6, 6))\n",
    "sns.violinplot(\n",
    "    ph_df,\n",
    "    x='quabo_num',\n",
    "    y='time_differential (ns)',\n",
    ")"
   ]
  },
  {
   "cell_type": "code",
   "execution_count": null,
   "id": "1c635c79-c00c-4591-a523-737d9b7f07b7",
   "metadata": {},
   "outputs": [],
   "source": []
  }
 ],
 "metadata": {
  "kernelspec": {
   "display_name": "Python 3 (ipykernel)",
   "language": "python",
   "name": "python3"
  },
  "language_info": {
   "codemirror_mode": {
    "name": "ipython",
    "version": 3
   },
   "file_extension": ".py",
   "mimetype": "text/x-python",
   "name": "python",
   "nbconvert_exporter": "python",
   "pygments_lexer": "ipython3",
   "version": "3.12.4"
  }
 },
 "nbformat": 4,
 "nbformat_minor": 5
}
